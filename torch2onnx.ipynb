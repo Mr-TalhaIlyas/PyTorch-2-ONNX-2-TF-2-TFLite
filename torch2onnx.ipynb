{
 "cells": [
  {
   "cell_type": "code",
   "execution_count": 3,
   "source": [
    "import torch\n",
    "import torchvision\n",
    "\n",
    "# Assume the model is on the CPU\n",
    "device = torch.device('cpu')\n",
    "\n",
    "# Load your pre-trained PyTorch model\n",
    "model = torchvision.models.mobilenet_v2(pretrained=True)\n",
    "model = model.to(device)"
   ],
   "outputs": [
    {
     "output_type": "stream",
     "name": "stderr",
     "text": [
      "/home/user01/anaconda3/envs/pt2/lib/python3.9/site-packages/torchvision/models/_utils.py:208: UserWarning: The parameter 'pretrained' is deprecated since 0.13 and may be removed in the future, please use 'weights' instead.\n",
      "  warnings.warn(\n",
      "/home/user01/anaconda3/envs/pt2/lib/python3.9/site-packages/torchvision/models/_utils.py:223: UserWarning: Arguments other than a weight enum or `None` for 'weights' are deprecated since 0.13 and may be removed in the future. The current behavior is equivalent to passing `weights=MobileNet_V2_Weights.IMAGENET1K_V1`. You can also use `weights=MobileNet_V2_Weights.DEFAULT` to get the most up-to-date weights.\n",
      "  warnings.warn(msg)\n"
     ]
    }
   ],
   "metadata": {}
  },
  {
   "cell_type": "code",
   "execution_count": 4,
   "source": [
    "example_input = torch.rand(1, 3, 224, 224).to(device)\n",
    "model.eval()\n",
    "\n",
    "with torch.no_grad():\n",
    "    traced_model = torch.jit.trace(model, example_input)"
   ],
   "outputs": [],
   "metadata": {}
  },
  {
   "cell_type": "code",
   "execution_count": 6,
   "source": [
    "torch.onnx.export(traced_model,               # TorchScript model\n",
    "                  example_input,               # Input tensor(s)\n",
    "                  'new_model.onnx',               # Output file\n",
    "                  export_params=True,         # Store the trained parameter weights inside the model file\n",
    "                  opset_version=11,           # The ONNX version to export the model to\n",
    "                  do_constant_folding=True,   # Whether to execute constant folding for optimization\n",
    "                  input_names=['input'],      # The model's input names\n",
    "                  output_names=['output'],    # The model's output names\n",
    "                  dynamic_axes={'input': {0: 'batch_size'},  # Variable length axes\n",
    "                                'output': {0: 'batch_size'}})"
   ],
   "outputs": [
    {
     "output_type": "stream",
     "name": "stderr",
     "text": [
      "/home/user01/anaconda3/envs/pt2/lib/python3.9/site-packages/torch/onnx/utils.py:825: UserWarning: no signature found for <torch.ScriptMethod object at 0x7efab73e1a40>, skipping _decide_input_format\n",
      "  warnings.warn(f\"{e}, skipping _decide_input_format\")\n"
     ]
    },
    {
     "output_type": "stream",
     "name": "stdout",
     "text": [
      "============= Diagnostic Run torch.onnx.export version 2.0.0+cu117 =============\n",
      "verbose: False, log level: Level.ERROR\n",
      "======================= 0 NONE 0 NOTE 0 WARNING 0 ERROR ========================\n",
      "\n"
     ]
    }
   ],
   "metadata": {}
  },
  {
   "cell_type": "code",
   "execution_count": 7,
   "source": [
    "torch.__version__"
   ],
   "outputs": [
    {
     "output_type": "execute_result",
     "data": {
      "text/plain": [
       "'2.0.0+cu117'"
      ]
     },
     "metadata": {},
     "execution_count": 7
    }
   ],
   "metadata": {}
  }
 ],
 "nbformat": 4,
 "nbformat_minor": 2,
 "metadata": {
  "language_info": {
   "codemirror_mode": {
    "name": "ipython",
    "version": 3
   },
   "file_extension": ".py",
   "mimetype": "text/x-python",
   "name": "python",
   "nbconvert_exporter": "python",
   "pygments_lexer": "ipython3",
   "version": 3
  },
  "orig_nbformat": 4
 }
}